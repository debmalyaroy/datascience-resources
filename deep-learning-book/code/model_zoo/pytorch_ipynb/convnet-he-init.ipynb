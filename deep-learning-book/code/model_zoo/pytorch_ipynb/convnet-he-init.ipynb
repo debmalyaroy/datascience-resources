{
 "cells": [
  {
   "cell_type": "markdown",
   "metadata": {},
   "source": [
    "*Accompanying code examples of the book \"Introduction to Artificial Neural Networks and Deep Learning: A Practical Guide with Applications in Python\" by [Sebastian Raschka](https://sebastianraschka.com). All code examples are released under the [MIT license](https://github.com/rasbt/deep-learning-book/blob/master/LICENSE). If you find this content useful, please consider supporting the work by buying a [copy of the book](https://leanpub.com/ann-and-deeplearning).*\n",
    "  \n",
    "Other code examples and content are available on [GitHub](https://github.com/rasbt/deep-learning-book). The PDF and ebook versions of the book are available through [Leanpub](https://leanpub.com/ann-and-deeplearning)."
   ]
  },
  {
   "cell_type": "code",
   "execution_count": 1,
   "metadata": {},
   "outputs": [
    {
     "name": "stdout",
     "output_type": "stream",
     "text": [
      "Sebastian Raschka \n",
      "\n",
      "CPython 3.7.1\n",
      "IPython 7.2.0\n",
      "\n",
      "torch 1.0.0\n"
     ]
    }
   ],
   "source": [
    "%load_ext watermark\n",
    "%watermark -a 'Sebastian Raschka' -v -p torch"
   ]
  },
  {
   "cell_type": "markdown",
   "metadata": {},
   "source": [
    "- Runs on CPU or GPU (if available)"
   ]
  },
  {
   "cell_type": "markdown",
   "metadata": {},
   "source": [
    "# Model Zoo -- Convolutional Neural Network with He Initialization"
   ]
  },
  {
   "cell_type": "markdown",
   "metadata": {},
   "source": [
    "## Imports"
   ]
  },
  {
   "cell_type": "code",
   "execution_count": 2,
   "metadata": {},
   "outputs": [],
   "source": [
    "import numpy as np\n",
    "import torch\n",
    "import torch.nn as nn\n",
    "import torch.nn.functional as F\n",
    "from torchvision import datasets\n",
    "from torchvision import transforms\n",
    "from torch.utils.data import DataLoader"
   ]
  },
  {
   "cell_type": "markdown",
   "metadata": {},
   "source": [
    "## Settings and Dataset"
   ]
  },
  {
   "cell_type": "code",
   "execution_count": 3,
   "metadata": {},
   "outputs": [
    {
     "name": "stdout",
     "output_type": "stream",
     "text": [
      "Image batch dimensions: torch.Size([128, 1, 28, 28])\n",
      "Image label dimensions: torch.Size([128])\n"
     ]
    }
   ],
   "source": [
    "##########################\n",
    "### SETTINGS\n",
    "##########################\n",
    "\n",
    "# Device\n",
    "device = torch.device(\"cuda:2\" if torch.cuda.is_available() else \"cpu\")\n",
    "\n",
    "# Hyperparameters\n",
    "random_seed = 1\n",
    "learning_rate = 0.05\n",
    "num_epochs = 10\n",
    "batch_size = 128\n",
    "\n",
    "# Architecture\n",
    "num_classes = 10\n",
    "\n",
    "\n",
    "##########################\n",
    "### MNIST DATASET\n",
    "##########################\n",
    "\n",
    "# Note transforms.ToTensor() scales input images\n",
    "# to 0-1 range\n",
    "train_dataset = datasets.MNIST(root='data', \n",
    "                               train=True, \n",
    "                               transform=transforms.ToTensor(),\n",
    "                               download=True)\n",
    "\n",
    "test_dataset = datasets.MNIST(root='data', \n",
    "                              train=False, \n",
    "                              transform=transforms.ToTensor())\n",
    "\n",
    "\n",
    "train_loader = DataLoader(dataset=train_dataset, \n",
    "                          batch_size=batch_size, \n",
    "                          shuffle=True)\n",
    "\n",
    "test_loader = DataLoader(dataset=test_dataset, \n",
    "                         batch_size=batch_size, \n",
    "                         shuffle=False)\n",
    "\n",
    "# Checking the dataset\n",
    "for images, labels in train_loader:  \n",
    "    print('Image batch dimensions:', images.shape)\n",
    "    print('Image label dimensions:', labels.shape)\n",
    "    break"
   ]
  },
  {
   "cell_type": "markdown",
   "metadata": {},
   "source": [
    "## Model"
   ]
  },
  {
   "cell_type": "code",
   "execution_count": 4,
   "metadata": {},
   "outputs": [],
   "source": [
    "##########################\n",
    "### MODEL\n",
    "##########################\n",
    "\n",
    "\n",
    "class ConvNet(torch.nn.Module):\n",
    "\n",
    "    def __init__(self, num_classes):\n",
    "        super(ConvNet, self).__init__()\n",
    "        \n",
    "        # calculate same padding:\n",
    "        # (w - k + 2*p)/s + 1 = o\n",
    "        # => p = (s(o-1) - w + k)/2\n",
    "        \n",
    "        # 28x28x1 => 28x28x4\n",
    "        self.conv_1 = torch.nn.Conv2d(in_channels=1,\n",
    "                                      out_channels=4,\n",
    "                                      kernel_size=(3, 3),\n",
    "                                      stride=(1, 1),\n",
    "                                      padding=1) # (1(28-1) - 28 + 3) / 2 = 1\n",
    "        # 28x28x4 => 14x14x4\n",
    "        self.pool_1 = torch.nn.MaxPool2d(kernel_size=(2, 2),\n",
    "                                         stride=(2, 2),\n",
    "                                         padding=0) # (2(14-1) - 28 + 2) = 0                                       \n",
    "        # 14x14x4 => 14x14x8\n",
    "        self.conv_2 = torch.nn.Conv2d(in_channels=4,\n",
    "                                      out_channels=8,\n",
    "                                      kernel_size=(3, 3),\n",
    "                                      stride=(1, 1),\n",
    "                                      padding=1) # (1(14-1) - 14 + 3) / 2 = 1                 \n",
    "        # 14x14x8 => 7x7x8                             \n",
    "        self.pool_2 = torch.nn.MaxPool2d(kernel_size=(2, 2),\n",
    "                                         stride=(2, 2),\n",
    "                                         padding=0) # (2(7-1) - 14 + 2) = 0\n",
    "        \n",
    "        self.linear_1 = torch.nn.Linear(7*7*8, num_classes)\n",
    "        \n",
    "        ###############################################\n",
    "        # Reinitialize weights using He initialization\n",
    "        ###############################################\n",
    "        for m in self.modules():\n",
    "            if isinstance(m, torch.nn.Conv2d):\n",
    "                nn.init.kaiming_normal_(m.weight.detach())\n",
    "                m.bias.detach().zero_()\n",
    "            elif isinstance(m, torch.nn.Linear):\n",
    "                nn.init.kaiming_normal_(m.weight.detach())\n",
    "                m.bias.detach().zero_()\n",
    "        \n",
    "    def forward(self, x):\n",
    "        out = self.conv_1(x)\n",
    "        out = F.relu(out)\n",
    "        out = self.pool_1(out)\n",
    "\n",
    "        out = self.conv_2(out)\n",
    "        out = F.relu(out)\n",
    "        out = self.pool_2(out)\n",
    "        \n",
    "        logits = self.linear_1(out.view(-1, 7*7*8))\n",
    "        probas = F.softmax(logits, dim=1)\n",
    "        return logits, probas\n",
    "\n",
    "    \n",
    "torch.manual_seed(random_seed)\n",
    "model = ConvNet(num_classes=num_classes)\n",
    "\n",
    "model = model.to(device)\n",
    "\n",
    "optimizer = torch.optim.SGD(model.parameters(), lr=learning_rate)  "
   ]
  },
  {
   "cell_type": "markdown",
   "metadata": {},
   "source": [
    "## Training"
   ]
  },
  {
   "cell_type": "code",
   "execution_count": 5,
   "metadata": {},
   "outputs": [
    {
     "name": "stdout",
     "output_type": "stream",
     "text": [
      "Epoch: 001/010 | Batch 000/469 | Cost: 2.4577\n",
      "Epoch: 001/010 | Batch 050/469 | Cost: 1.1068\n",
      "Epoch: 001/010 | Batch 100/469 | Cost: 0.6609\n",
      "Epoch: 001/010 | Batch 150/469 | Cost: 0.5352\n",
      "Epoch: 001/010 | Batch 200/469 | Cost: 0.4481\n",
      "Epoch: 001/010 | Batch 250/469 | Cost: 0.3158\n",
      "Epoch: 001/010 | Batch 300/469 | Cost: 0.4544\n",
      "Epoch: 001/010 | Batch 350/469 | Cost: 0.4277\n",
      "Epoch: 001/010 | Batch 400/469 | Cost: 0.1386\n",
      "Epoch: 001/010 | Batch 450/469 | Cost: 0.1409\n",
      "Epoch: 001/010 training accuracy: 91.97%\n",
      "Epoch: 002/010 | Batch 000/469 | Cost: 0.2196\n",
      "Epoch: 002/010 | Batch 050/469 | Cost: 0.1464\n",
      "Epoch: 002/010 | Batch 100/469 | Cost: 0.2626\n",
      "Epoch: 002/010 | Batch 150/469 | Cost: 0.1919\n",
      "Epoch: 002/010 | Batch 200/469 | Cost: 0.1485\n",
      "Epoch: 002/010 | Batch 250/469 | Cost: 0.1229\n",
      "Epoch: 002/010 | Batch 300/469 | Cost: 0.1591\n",
      "Epoch: 002/010 | Batch 350/469 | Cost: 0.1410\n",
      "Epoch: 002/010 | Batch 400/469 | Cost: 0.1404\n",
      "Epoch: 002/010 | Batch 450/469 | Cost: 0.1210\n",
      "Epoch: 002/010 training accuracy: 95.22%\n",
      "Epoch: 003/010 | Batch 000/469 | Cost: 0.1288\n",
      "Epoch: 003/010 | Batch 050/469 | Cost: 0.2472\n",
      "Epoch: 003/010 | Batch 100/469 | Cost: 0.1309\n",
      "Epoch: 003/010 | Batch 150/469 | Cost: 0.1886\n",
      "Epoch: 003/010 | Batch 200/469 | Cost: 0.1052\n",
      "Epoch: 003/010 | Batch 250/469 | Cost: 0.1564\n",
      "Epoch: 003/010 | Batch 300/469 | Cost: 0.1236\n",
      "Epoch: 003/010 | Batch 350/469 | Cost: 0.1388\n",
      "Epoch: 003/010 | Batch 400/469 | Cost: 0.1556\n",
      "Epoch: 003/010 | Batch 450/469 | Cost: 0.1658\n",
      "Epoch: 003/010 training accuracy: 96.45%\n",
      "Epoch: 004/010 | Batch 000/469 | Cost: 0.1828\n",
      "Epoch: 004/010 | Batch 050/469 | Cost: 0.0613\n",
      "Epoch: 004/010 | Batch 100/469 | Cost: 0.1967\n",
      "Epoch: 004/010 | Batch 150/469 | Cost: 0.1073\n",
      "Epoch: 004/010 | Batch 200/469 | Cost: 0.1062\n",
      "Epoch: 004/010 | Batch 250/469 | Cost: 0.0966\n",
      "Epoch: 004/010 | Batch 300/469 | Cost: 0.0593\n",
      "Epoch: 004/010 | Batch 350/469 | Cost: 0.1031\n",
      "Epoch: 004/010 | Batch 400/469 | Cost: 0.1503\n",
      "Epoch: 004/010 | Batch 450/469 | Cost: 0.1617\n",
      "Epoch: 004/010 training accuracy: 96.62%\n",
      "Epoch: 005/010 | Batch 000/469 | Cost: 0.0470\n",
      "Epoch: 005/010 | Batch 050/469 | Cost: 0.0351\n",
      "Epoch: 005/010 | Batch 100/469 | Cost: 0.1230\n",
      "Epoch: 005/010 | Batch 150/469 | Cost: 0.0433\n",
      "Epoch: 005/010 | Batch 200/469 | Cost: 0.1051\n",
      "Epoch: 005/010 | Batch 250/469 | Cost: 0.1133\n",
      "Epoch: 005/010 | Batch 300/469 | Cost: 0.2225\n",
      "Epoch: 005/010 | Batch 350/469 | Cost: 0.1272\n",
      "Epoch: 005/010 | Batch 400/469 | Cost: 0.1405\n",
      "Epoch: 005/010 | Batch 450/469 | Cost: 0.0648\n",
      "Epoch: 005/010 training accuracy: 97.21%\n",
      "Epoch: 006/010 | Batch 000/469 | Cost: 0.0887\n",
      "Epoch: 006/010 | Batch 050/469 | Cost: 0.1363\n",
      "Epoch: 006/010 | Batch 100/469 | Cost: 0.1084\n",
      "Epoch: 006/010 | Batch 150/469 | Cost: 0.0796\n",
      "Epoch: 006/010 | Batch 200/469 | Cost: 0.0816\n",
      "Epoch: 006/010 | Batch 250/469 | Cost: 0.1872\n",
      "Epoch: 006/010 | Batch 300/469 | Cost: 0.1785\n",
      "Epoch: 006/010 | Batch 350/469 | Cost: 0.1109\n",
      "Epoch: 006/010 | Batch 400/469 | Cost: 0.1056\n",
      "Epoch: 006/010 | Batch 450/469 | Cost: 0.0735\n",
      "Epoch: 006/010 training accuracy: 97.23%\n",
      "Epoch: 007/010 | Batch 000/469 | Cost: 0.1301\n",
      "Epoch: 007/010 | Batch 050/469 | Cost: 0.0943\n",
      "Epoch: 007/010 | Batch 100/469 | Cost: 0.0868\n",
      "Epoch: 007/010 | Batch 150/469 | Cost: 0.1714\n",
      "Epoch: 007/010 | Batch 200/469 | Cost: 0.0841\n",
      "Epoch: 007/010 | Batch 250/469 | Cost: 0.0878\n",
      "Epoch: 007/010 | Batch 300/469 | Cost: 0.0567\n",
      "Epoch: 007/010 | Batch 350/469 | Cost: 0.0804\n",
      "Epoch: 007/010 | Batch 400/469 | Cost: 0.0785\n",
      "Epoch: 007/010 | Batch 450/469 | Cost: 0.1236\n",
      "Epoch: 007/010 training accuracy: 97.48%\n",
      "Epoch: 008/010 | Batch 000/469 | Cost: 0.0738\n",
      "Epoch: 008/010 | Batch 050/469 | Cost: 0.0674\n",
      "Epoch: 008/010 | Batch 100/469 | Cost: 0.1880\n",
      "Epoch: 008/010 | Batch 150/469 | Cost: 0.0757\n",
      "Epoch: 008/010 | Batch 200/469 | Cost: 0.0633\n",
      "Epoch: 008/010 | Batch 250/469 | Cost: 0.1166\n",
      "Epoch: 008/010 | Batch 300/469 | Cost: 0.0311\n",
      "Epoch: 008/010 | Batch 350/469 | Cost: 0.0825\n",
      "Epoch: 008/010 | Batch 400/469 | Cost: 0.1264\n",
      "Epoch: 008/010 | Batch 450/469 | Cost: 0.0486\n",
      "Epoch: 008/010 training accuracy: 97.53%\n",
      "Epoch: 009/010 | Batch 000/469 | Cost: 0.0537\n",
      "Epoch: 009/010 | Batch 050/469 | Cost: 0.1862\n",
      "Epoch: 009/010 | Batch 100/469 | Cost: 0.0640\n",
      "Epoch: 009/010 | Batch 150/469 | Cost: 0.0391\n",
      "Epoch: 009/010 | Batch 200/469 | Cost: 0.0660\n",
      "Epoch: 009/010 | Batch 250/469 | Cost: 0.0877\n",
      "Epoch: 009/010 | Batch 300/469 | Cost: 0.1958\n",
      "Epoch: 009/010 | Batch 350/469 | Cost: 0.0714\n",
      "Epoch: 009/010 | Batch 400/469 | Cost: 0.0791\n",
      "Epoch: 009/010 | Batch 450/469 | Cost: 0.0223\n",
      "Epoch: 009/010 training accuracy: 97.89%\n",
      "Epoch: 010/010 | Batch 000/469 | Cost: 0.0988\n",
      "Epoch: 010/010 | Batch 050/469 | Cost: 0.0768\n",
      "Epoch: 010/010 | Batch 100/469 | Cost: 0.1971\n",
      "Epoch: 010/010 | Batch 150/469 | Cost: 0.0398\n",
      "Epoch: 010/010 | Batch 200/469 | Cost: 0.0343\n",
      "Epoch: 010/010 | Batch 250/469 | Cost: 0.0537\n",
      "Epoch: 010/010 | Batch 300/469 | Cost: 0.1167\n",
      "Epoch: 010/010 | Batch 350/469 | Cost: 0.1024\n",
      "Epoch: 010/010 | Batch 400/469 | Cost: 0.1561\n",
      "Epoch: 010/010 | Batch 450/469 | Cost: 0.1759\n",
      "Epoch: 010/010 training accuracy: 97.80%\n"
     ]
    }
   ],
   "source": [
    "def compute_accuracy(model, data_loader):\n",
    "    correct_pred, num_examples = 0, 0\n",
    "    for features, targets in data_loader:\n",
    "        features = features.to(device)\n",
    "        targets = targets.to(device)\n",
    "        logits, probas = model(features)\n",
    "        _, predicted_labels = torch.max(probas, 1)\n",
    "        num_examples += targets.size(0)\n",
    "        correct_pred += (predicted_labels == targets).sum()\n",
    "    return correct_pred.float()/num_examples * 100\n",
    "    \n",
    "\n",
    "for epoch in range(num_epochs):\n",
    "    model = model.train()\n",
    "    for batch_idx, (features, targets) in enumerate(train_loader):\n",
    "        \n",
    "        features = features.to(device)\n",
    "        targets = targets.to(device)\n",
    "\n",
    "        ### FORWARD AND BACK PROP\n",
    "        logits, probas = model(features)\n",
    "        cost = F.cross_entropy(logits, targets)\n",
    "        optimizer.zero_grad()\n",
    "        \n",
    "        cost.backward()\n",
    "        \n",
    "        ### UPDATE MODEL PARAMETERS\n",
    "        optimizer.step()\n",
    "        \n",
    "        ### LOGGING\n",
    "        if not batch_idx % 50:\n",
    "            print ('Epoch: %03d/%03d | Batch %03d/%03d | Cost: %.4f' \n",
    "                   %(epoch+1, num_epochs, batch_idx, \n",
    "                     len(train_loader), cost))\n",
    "    \n",
    "    model = model.eval()\n",
    "    print('Epoch: %03d/%03d training accuracy: %.2f%%' % (\n",
    "          epoch+1, num_epochs, \n",
    "          compute_accuracy(model, train_loader)))"
   ]
  },
  {
   "cell_type": "markdown",
   "metadata": {},
   "source": [
    "## Evaluation"
   ]
  },
  {
   "cell_type": "code",
   "execution_count": 6,
   "metadata": {},
   "outputs": [
    {
     "name": "stdout",
     "output_type": "stream",
     "text": [
      "Test accuracy: 97.67%\n"
     ]
    }
   ],
   "source": [
    "print('Test accuracy: %.2f%%' % (compute_accuracy(model, test_loader)))"
   ]
  },
  {
   "cell_type": "code",
   "execution_count": 7,
   "metadata": {},
   "outputs": [
    {
     "name": "stdout",
     "output_type": "stream",
     "text": [
      "numpy       1.15.4\n",
      "torch       1.0.0\n",
      "\n"
     ]
    }
   ],
   "source": [
    "%watermark -iv"
   ]
  }
 ],
 "metadata": {
  "kernelspec": {
   "display_name": "Python 3",
   "language": "python",
   "name": "python3"
  },
  "language_info": {
   "codemirror_mode": {
    "name": "ipython",
    "version": 3
   },
   "file_extension": ".py",
   "mimetype": "text/x-python",
   "name": "python",
   "nbconvert_exporter": "python",
   "pygments_lexer": "ipython3",
   "version": "3.7.1"
  },
  "toc": {
   "nav_menu": {},
   "number_sections": true,
   "sideBar": true,
   "skip_h1_title": false,
   "title_cell": "Table of Contents",
   "title_sidebar": "Contents",
   "toc_cell": false,
   "toc_position": {},
   "toc_section_display": true,
   "toc_window_display": false
  }
 },
 "nbformat": 4,
 "nbformat_minor": 2
}
