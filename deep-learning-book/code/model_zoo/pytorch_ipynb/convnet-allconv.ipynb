{
 "cells": [
  {
   "cell_type": "markdown",
   "metadata": {},
   "source": [
    "*Accompanying code examples of the book \"Introduction to Artificial Neural Networks and Deep Learning: A Practical Guide with Applications in Python\" by [Sebastian Raschka](https://sebastianraschka.com). All code examples are released under the [MIT license](https://github.com/rasbt/deep-learning-book/blob/master/LICENSE). If you find this content useful, please consider supporting the work by buying a [copy of the book](https://leanpub.com/ann-and-deeplearning).*\n",
    "  \n",
    "Other code examples and content are available on [GitHub](https://github.com/rasbt/deep-learning-book). The PDF and ebook versions of the book are available through [Leanpub](https://leanpub.com/ann-and-deeplearning)."
   ]
  },
  {
   "cell_type": "code",
   "execution_count": 1,
   "metadata": {},
   "outputs": [
    {
     "name": "stdout",
     "output_type": "stream",
     "text": [
      "Sebastian Raschka \n",
      "\n",
      "CPython 3.7.1\n",
      "IPython 7.2.0\n",
      "\n",
      "torch 1.0.0\n"
     ]
    }
   ],
   "source": [
    "%load_ext watermark\n",
    "%watermark -a 'Sebastian Raschka' -v -p torch"
   ]
  },
  {
   "cell_type": "markdown",
   "metadata": {},
   "source": [
    "- Runs on CPU or GPU (if available)"
   ]
  },
  {
   "cell_type": "markdown",
   "metadata": {},
   "source": [
    "# Model Zoo -- All-Convolutional Neural Network"
   ]
  },
  {
   "cell_type": "markdown",
   "metadata": {},
   "source": [
    "Simple convolutional neural network that uses stride=2 every 2nd convolutional layer, instead of max pooling, to reduce the feature maps."
   ]
  },
  {
   "cell_type": "markdown",
   "metadata": {},
   "source": [
    "## Imports"
   ]
  },
  {
   "cell_type": "code",
   "execution_count": 2,
   "metadata": {},
   "outputs": [],
   "source": [
    "import numpy as np\n",
    "import torch\n",
    "import torch.nn.functional as F\n",
    "from torchvision import datasets\n",
    "from torchvision import transforms\n",
    "from torch.utils.data import DataLoader"
   ]
  },
  {
   "cell_type": "markdown",
   "metadata": {},
   "source": [
    "## Settings and Dataset"
   ]
  },
  {
   "cell_type": "code",
   "execution_count": 3,
   "metadata": {},
   "outputs": [
    {
     "name": "stdout",
     "output_type": "stream",
     "text": [
      "Image batch dimensions: torch.Size([128, 1, 28, 28])\n",
      "Image label dimensions: torch.Size([128])\n"
     ]
    }
   ],
   "source": [
    "##########################\n",
    "### SETTINGS\n",
    "##########################\n",
    "\n",
    "# Device\n",
    "device = torch.device(\"cuda:0\" if torch.cuda.is_available() else \"cpu\")\n",
    "\n",
    "# Hyperparameters\n",
    "random_seed = 1\n",
    "learning_rate = 0.05\n",
    "num_epochs = 10\n",
    "batch_size = 128\n",
    "\n",
    "# Architecture\n",
    "num_classes = 10\n",
    "\n",
    "\n",
    "##########################\n",
    "### MNIST DATASET\n",
    "##########################\n",
    "\n",
    "# Note transforms.ToTensor() scales input images\n",
    "# to 0-1 range\n",
    "train_dataset = datasets.MNIST(root='data', \n",
    "                               train=True, \n",
    "                               transform=transforms.ToTensor(),\n",
    "                               download=True)\n",
    "\n",
    "test_dataset = datasets.MNIST(root='data', \n",
    "                              train=False, \n",
    "                              transform=transforms.ToTensor())\n",
    "\n",
    "\n",
    "train_loader = DataLoader(dataset=train_dataset, \n",
    "                          batch_size=batch_size, \n",
    "                          shuffle=True)\n",
    "\n",
    "test_loader = DataLoader(dataset=test_dataset, \n",
    "                         batch_size=batch_size, \n",
    "                         shuffle=False)\n",
    "\n",
    "# Checking the dataset\n",
    "for images, labels in train_loader:  \n",
    "    print('Image batch dimensions:', images.shape)\n",
    "    print('Image label dimensions:', labels.shape)\n",
    "    break"
   ]
  },
  {
   "cell_type": "markdown",
   "metadata": {},
   "source": [
    "## Model"
   ]
  },
  {
   "cell_type": "code",
   "execution_count": 4,
   "metadata": {},
   "outputs": [],
   "source": [
    "##########################\n",
    "### MODEL\n",
    "##########################\n",
    "\n",
    "\n",
    "class ConvNet(torch.nn.Module):\n",
    "\n",
    "    def __init__(self, num_classes):\n",
    "        super(ConvNet, self).__init__()\n",
    "        \n",
    "        # calculate same padding:\n",
    "        # (w - k + 2*p)/s + 1 = o\n",
    "        # => p = (s(o-1) - w + k)/2\n",
    "        \n",
    "        # 28x28x1 => 28x28x4\n",
    "        self.conv_1 = torch.nn.Conv2d(in_channels=1,\n",
    "                                      out_channels=4,\n",
    "                                      kernel_size=(3, 3),\n",
    "                                      stride=(1, 1),\n",
    "                                      padding=1) # (1(28-1) - 28 + 3) / 2 = 1\n",
    "        # 28x28x4 => 14x14x4\n",
    "        self.conv_2 = torch.nn.Conv2d(in_channels=4,\n",
    "                                      out_channels=4,\n",
    "                                      kernel_size=(3, 3),\n",
    "                                      stride=(2, 2),\n",
    "                                      padding=1)                             \n",
    "        # 14x14x4 => 14x14x8\n",
    "        self.conv_3 = torch.nn.Conv2d(in_channels=4,\n",
    "                                      out_channels=8,\n",
    "                                      kernel_size=(3, 3),\n",
    "                                      stride=(1, 1),\n",
    "                                      padding=1) # (1(14-1) - 14 + 3) / 2 = 1                 \n",
    "        # 14x14x8 => 7x7x8                             \n",
    "        self.conv_4 = torch.nn.Conv2d(in_channels=8,\n",
    "                                      out_channels=8,\n",
    "                                      kernel_size=(3, 3),\n",
    "                                      stride=(2, 2),\n",
    "                                      padding=1)      \n",
    "        \n",
    "        self.linear_1 = torch.nn.Linear(7*7*8, num_classes)\n",
    "\n",
    "        \n",
    "    def forward(self, x):\n",
    "        out = self.conv_1(x)\n",
    "        out = F.relu(out)\n",
    "        \n",
    "        out = self.conv_2(out)\n",
    "        out = F.relu(out)\n",
    "\n",
    "        out = self.conv_3(out)\n",
    "        out = F.relu(out)\n",
    "\n",
    "        out = self.conv_4(out)\n",
    "        out = F.relu(out)\n",
    "        \n",
    "        logits = self.linear_1(out.view(-1, 7*7*8))\n",
    "        probas = torch.softmax(logits, dim=1)\n",
    "        return logits, probas\n",
    "\n",
    "    \n",
    "torch.manual_seed(random_seed)\n",
    "model = ConvNet(num_classes=num_classes)\n",
    "\n",
    "model = model.to(device)\n",
    "\n",
    "optimizer = torch.optim.SGD(model.parameters(), lr=learning_rate)  "
   ]
  },
  {
   "cell_type": "markdown",
   "metadata": {},
   "source": [
    "## Training"
   ]
  },
  {
   "cell_type": "code",
   "execution_count": 5,
   "metadata": {},
   "outputs": [
    {
     "name": "stdout",
     "output_type": "stream",
     "text": [
      "Epoch: 001/010 | Batch 000/469 | Cost: 2.3009\n",
      "Epoch: 001/010 | Batch 050/469 | Cost: 2.3018\n",
      "Epoch: 001/010 | Batch 100/469 | Cost: 2.3004\n",
      "Epoch: 001/010 | Batch 150/469 | Cost: 2.3042\n",
      "Epoch: 001/010 | Batch 200/469 | Cost: 2.2943\n",
      "Epoch: 001/010 | Batch 250/469 | Cost: 2.3018\n",
      "Epoch: 001/010 | Batch 300/469 | Cost: 2.3028\n",
      "Epoch: 001/010 | Batch 350/469 | Cost: 2.2976\n",
      "Epoch: 001/010 | Batch 400/469 | Cost: 2.2962\n",
      "Epoch: 001/010 | Batch 450/469 | Cost: 2.3038\n",
      "Epoch: 001/010 training accuracy: 11.24%\n",
      "Epoch: 002/010 | Batch 000/469 | Cost: 2.2939\n",
      "Epoch: 002/010 | Batch 050/469 | Cost: 2.2908\n",
      "Epoch: 002/010 | Batch 100/469 | Cost: 2.2964\n",
      "Epoch: 002/010 | Batch 150/469 | Cost: 2.2795\n",
      "Epoch: 002/010 | Batch 200/469 | Cost: 2.2201\n",
      "Epoch: 002/010 | Batch 250/469 | Cost: 0.7853\n",
      "Epoch: 002/010 | Batch 300/469 | Cost: 0.3089\n",
      "Epoch: 002/010 | Batch 350/469 | Cost: 0.3396\n",
      "Epoch: 002/010 | Batch 400/469 | Cost: 0.4001\n",
      "Epoch: 002/010 | Batch 450/469 | Cost: 0.3655\n",
      "Epoch: 002/010 training accuracy: 91.74%\n",
      "Epoch: 003/010 | Batch 000/469 | Cost: 0.2434\n",
      "Epoch: 003/010 | Batch 050/469 | Cost: 0.2146\n",
      "Epoch: 003/010 | Batch 100/469 | Cost: 0.1871\n",
      "Epoch: 003/010 | Batch 150/469 | Cost: 0.1983\n",
      "Epoch: 003/010 | Batch 200/469 | Cost: 0.1949\n",
      "Epoch: 003/010 | Batch 250/469 | Cost: 0.1763\n",
      "Epoch: 003/010 | Batch 300/469 | Cost: 0.1139\n",
      "Epoch: 003/010 | Batch 350/469 | Cost: 0.2278\n",
      "Epoch: 003/010 | Batch 400/469 | Cost: 0.1809\n",
      "Epoch: 003/010 | Batch 450/469 | Cost: 0.1523\n",
      "Epoch: 003/010 training accuracy: 94.07%\n",
      "Epoch: 004/010 | Batch 000/469 | Cost: 0.0859\n",
      "Epoch: 004/010 | Batch 050/469 | Cost: 0.2452\n",
      "Epoch: 004/010 | Batch 100/469 | Cost: 0.1376\n",
      "Epoch: 004/010 | Batch 150/469 | Cost: 0.1604\n",
      "Epoch: 004/010 | Batch 200/469 | Cost: 0.0659\n",
      "Epoch: 004/010 | Batch 250/469 | Cost: 0.0800\n",
      "Epoch: 004/010 | Batch 300/469 | Cost: 0.1211\n",
      "Epoch: 004/010 | Batch 350/469 | Cost: 0.1072\n",
      "Epoch: 004/010 | Batch 400/469 | Cost: 0.1327\n",
      "Epoch: 004/010 | Batch 450/469 | Cost: 0.0896\n",
      "Epoch: 004/010 training accuracy: 96.47%\n",
      "Epoch: 005/010 | Batch 000/469 | Cost: 0.1813\n",
      "Epoch: 005/010 | Batch 050/469 | Cost: 0.1307\n",
      "Epoch: 005/010 | Batch 100/469 | Cost: 0.2453\n",
      "Epoch: 005/010 | Batch 150/469 | Cost: 0.1398\n",
      "Epoch: 005/010 | Batch 200/469 | Cost: 0.0687\n",
      "Epoch: 005/010 | Batch 250/469 | Cost: 0.1387\n",
      "Epoch: 005/010 | Batch 300/469 | Cost: 0.0882\n",
      "Epoch: 005/010 | Batch 350/469 | Cost: 0.1513\n",
      "Epoch: 005/010 | Batch 400/469 | Cost: 0.1078\n",
      "Epoch: 005/010 | Batch 450/469 | Cost: 0.1795\n",
      "Epoch: 005/010 training accuracy: 97.18%\n",
      "Epoch: 006/010 | Batch 000/469 | Cost: 0.0692\n",
      "Epoch: 006/010 | Batch 050/469 | Cost: 0.0519\n",
      "Epoch: 006/010 | Batch 100/469 | Cost: 0.1138\n",
      "Epoch: 006/010 | Batch 150/469 | Cost: 0.1081\n",
      "Epoch: 006/010 | Batch 200/469 | Cost: 0.0415\n",
      "Epoch: 006/010 | Batch 250/469 | Cost: 0.1317\n",
      "Epoch: 006/010 | Batch 300/469 | Cost: 0.0836\n",
      "Epoch: 006/010 | Batch 350/469 | Cost: 0.0436\n",
      "Epoch: 006/010 | Batch 400/469 | Cost: 0.0771\n",
      "Epoch: 006/010 | Batch 450/469 | Cost: 0.0963\n",
      "Epoch: 006/010 training accuracy: 97.01%\n",
      "Epoch: 007/010 | Batch 000/469 | Cost: 0.0371\n",
      "Epoch: 007/010 | Batch 050/469 | Cost: 0.1023\n",
      "Epoch: 007/010 | Batch 100/469 | Cost: 0.0714\n",
      "Epoch: 007/010 | Batch 150/469 | Cost: 0.0403\n",
      "Epoch: 007/010 | Batch 200/469 | Cost: 0.0223\n",
      "Epoch: 007/010 | Batch 250/469 | Cost: 0.0897\n",
      "Epoch: 007/010 | Batch 300/469 | Cost: 0.0625\n",
      "Epoch: 007/010 | Batch 350/469 | Cost: 0.1504\n",
      "Epoch: 007/010 | Batch 400/469 | Cost: 0.1958\n",
      "Epoch: 007/010 | Batch 450/469 | Cost: 0.0842\n",
      "Epoch: 007/010 training accuracy: 97.80%\n",
      "Epoch: 008/010 | Batch 000/469 | Cost: 0.1204\n",
      "Epoch: 008/010 | Batch 050/469 | Cost: 0.0684\n",
      "Epoch: 008/010 | Batch 100/469 | Cost: 0.1450\n",
      "Epoch: 008/010 | Batch 150/469 | Cost: 0.0432\n",
      "Epoch: 008/010 | Batch 200/469 | Cost: 0.0809\n",
      "Epoch: 008/010 | Batch 250/469 | Cost: 0.0965\n",
      "Epoch: 008/010 | Batch 300/469 | Cost: 0.0453\n",
      "Epoch: 008/010 | Batch 350/469 | Cost: 0.0800\n",
      "Epoch: 008/010 | Batch 400/469 | Cost: 0.0558\n",
      "Epoch: 008/010 | Batch 450/469 | Cost: 0.1092\n",
      "Epoch: 008/010 training accuracy: 97.79%\n",
      "Epoch: 009/010 | Batch 000/469 | Cost: 0.1452\n",
      "Epoch: 009/010 | Batch 050/469 | Cost: 0.0655\n",
      "Epoch: 009/010 | Batch 100/469 | Cost: 0.0290\n",
      "Epoch: 009/010 | Batch 150/469 | Cost: 0.0321\n",
      "Epoch: 009/010 | Batch 200/469 | Cost: 0.0360\n",
      "Epoch: 009/010 | Batch 250/469 | Cost: 0.0777\n",
      "Epoch: 009/010 | Batch 300/469 | Cost: 0.1259\n",
      "Epoch: 009/010 | Batch 350/469 | Cost: 0.0665\n",
      "Epoch: 009/010 | Batch 400/469 | Cost: 0.1092\n",
      "Epoch: 009/010 | Batch 450/469 | Cost: 0.0058\n",
      "Epoch: 009/010 training accuracy: 98.00%\n",
      "Epoch: 010/010 | Batch 000/469 | Cost: 0.0289\n",
      "Epoch: 010/010 | Batch 050/469 | Cost: 0.0681\n",
      "Epoch: 010/010 | Batch 100/469 | Cost: 0.0505\n",
      "Epoch: 010/010 | Batch 150/469 | Cost: 0.1352\n",
      "Epoch: 010/010 | Batch 200/469 | Cost: 0.1805\n",
      "Epoch: 010/010 | Batch 250/469 | Cost: 0.0906\n",
      "Epoch: 010/010 | Batch 300/469 | Cost: 0.0802\n",
      "Epoch: 010/010 | Batch 350/469 | Cost: 0.0496\n",
      "Epoch: 010/010 | Batch 400/469 | Cost: 0.1311\n",
      "Epoch: 010/010 | Batch 450/469 | Cost: 0.0238\n",
      "Epoch: 010/010 training accuracy: 98.08%\n"
     ]
    }
   ],
   "source": [
    "def compute_accuracy(model, data_loader):\n",
    "    correct_pred, num_examples = 0, 0\n",
    "    for features, targets in data_loader:\n",
    "        features = features.to(device)\n",
    "        targets = targets.to(device)\n",
    "        logits, probas = model(features)\n",
    "        _, predicted_labels = torch.max(probas, 1)\n",
    "        num_examples += targets.size(0)\n",
    "        correct_pred += (predicted_labels == targets).sum()\n",
    "    return correct_pred.float()/num_examples * 100\n",
    "    \n",
    "\n",
    "for epoch in range(num_epochs):\n",
    "    model = model.train()\n",
    "    for batch_idx, (features, targets) in enumerate(train_loader):\n",
    "        \n",
    "        features = features.to(device)\n",
    "        targets = targets.to(device)\n",
    "\n",
    "        ### FORWARD AND BACK PROP\n",
    "        logits, probas = model(features)\n",
    "        cost = F.cross_entropy(logits, targets)\n",
    "        optimizer.zero_grad()\n",
    "        \n",
    "        cost.backward()\n",
    "        \n",
    "        ### UPDATE MODEL PARAMETERS\n",
    "        optimizer.step()\n",
    "        \n",
    "        ### LOGGING\n",
    "        if not batch_idx % 50:\n",
    "            print ('Epoch: %03d/%03d | Batch %03d/%03d | Cost: %.4f' \n",
    "                   %(epoch+1, num_epochs, batch_idx, \n",
    "                     len(train_loader), cost))\n",
    "    \n",
    "    model = model.eval()\n",
    "    print('Epoch: %03d/%03d training accuracy: %.2f%%' % (\n",
    "          epoch+1, num_epochs, \n",
    "          compute_accuracy(model, train_loader)))"
   ]
  },
  {
   "cell_type": "markdown",
   "metadata": {},
   "source": [
    "## Evaluation"
   ]
  },
  {
   "cell_type": "code",
   "execution_count": 6,
   "metadata": {},
   "outputs": [
    {
     "name": "stdout",
     "output_type": "stream",
     "text": [
      "Test accuracy: 97.87%\n"
     ]
    }
   ],
   "source": [
    "print('Test accuracy: %.2f%%' % (compute_accuracy(model, test_loader)))"
   ]
  },
  {
   "cell_type": "code",
   "execution_count": 7,
   "metadata": {},
   "outputs": [
    {
     "name": "stdout",
     "output_type": "stream",
     "text": [
      "numpy       1.15.4\n",
      "torch       1.0.0\n",
      "\n"
     ]
    }
   ],
   "source": [
    "%watermark -iv"
   ]
  }
 ],
 "metadata": {
  "kernelspec": {
   "display_name": "Python 3",
   "language": "python",
   "name": "python3"
  },
  "language_info": {
   "codemirror_mode": {
    "name": "ipython",
    "version": 3
   },
   "file_extension": ".py",
   "mimetype": "text/x-python",
   "name": "python",
   "nbconvert_exporter": "python",
   "pygments_lexer": "ipython3",
   "version": "3.7.1"
  },
  "toc": {
   "nav_menu": {},
   "number_sections": true,
   "sideBar": true,
   "skip_h1_title": false,
   "title_cell": "Table of Contents",
   "title_sidebar": "Contents",
   "toc_cell": false,
   "toc_position": {},
   "toc_section_display": true,
   "toc_window_display": false
  }
 },
 "nbformat": 4,
 "nbformat_minor": 2
}
